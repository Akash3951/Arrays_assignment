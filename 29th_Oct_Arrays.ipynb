{
 "cells": [
  {
   "cell_type": "code",
   "execution_count": 1,
   "id": "90df1b3a-8a55-43cb-9ffb-b5848c1c88fd",
   "metadata": {},
   "outputs": [],
   "source": [
    "# 1. Given an array, check if it contains any duplicates or not.\n",
    "# arr = [1, 2, 4, 2, 5, 9]\n",
    "# Output = True\n",
    "\n",
    "def find_duplicates(li):\n",
    "    li.sort()\n",
    "    flag=0\n",
    "    for i in range(len(li)-1):\n",
    "        if li[i] == li[i+1]:\n",
    "            flag=1\n",
    "            return True\n",
    "    return False"
   ]
  },
  {
   "cell_type": "code",
   "execution_count": 2,
   "id": "7368d9a1-9529-4728-ada0-6f179840fb38",
   "metadata": {},
   "outputs": [],
   "source": [
    "result = find_duplicates([1, 2,8,8,8, 4, 5, 9,5,])"
   ]
  },
  {
   "cell_type": "code",
   "execution_count": 3,
   "id": "5bddab76-0992-438e-8600-3c4f2307c45a",
   "metadata": {},
   "outputs": [
    {
     "data": {
      "text/plain": [
       "True"
      ]
     },
     "execution_count": 3,
     "metadata": {},
     "output_type": "execute_result"
    }
   ],
   "source": [
    "result"
   ]
  },
  {
   "cell_type": "code",
   "execution_count": null,
   "id": "bf04b365-cfc9-45e9-9455-48c10d313964",
   "metadata": {},
   "outputs": [],
   "source": []
  },
  {
   "cell_type": "code",
   "execution_count": 3,
   "id": "06ce1786-ae23-4aae-b4db-6a66f4a6f524",
   "metadata": {},
   "outputs": [],
   "source": [
    "# 2. Given an array and an integer k, rotate the array to the right by k steps.\n",
    "# arr = [1, 2, 3, 4, 5, 6, 7] k = 3\n",
    "# Output = [5, 6, 7, 1, 2, 3, 4]\n",
    "\n",
    "def rotate_array(li, k):\n",
    "    for i in range(k):\n",
    "        temp = li[0]\n",
    "        for j in range(len(li)):\n",
    "            if j==0:\n",
    "                li[0] = li[len(li)-1]\n",
    "            else:\n",
    "                a = li[j]\n",
    "                li[j] = temp\n",
    "                temp = a\n",
    "                \n",
    "    return li      \n",
    "        \n",
    "    "
   ]
  },
  {
   "cell_type": "code",
   "execution_count": 5,
   "id": "e0fbf2dc-421f-46c2-a1eb-02dcdcdd2053",
   "metadata": {},
   "outputs": [
    {
     "data": {
      "text/plain": [
       "[5, 6, 8, 1, 2, 3, 4]"
      ]
     },
     "execution_count": 5,
     "metadata": {},
     "output_type": "execute_result"
    }
   ],
   "source": [
    "rotate_array( [1, 2, 3, 4, 5, 6, 8], 3)\n"
   ]
  },
  {
   "cell_type": "code",
   "execution_count": 6,
   "id": "967cfe4a-c159-47a4-96cb-0a0bc0cca795",
   "metadata": {},
   "outputs": [],
   "source": []
  },
  {
   "cell_type": "code",
   "execution_count": 12,
   "id": "161e309e-9a17-4fe6-a5e3-3bc18cec4601",
   "metadata": {},
   "outputs": [],
   "source": [
    "# 3. Reverse the given array in-place, means without using any extra data structure.\n",
    "# arr = [2, 4, 5, 7, 9, 12]\n",
    "# Output = [12, 9, 7, 5, 4, 2]\n",
    "\n",
    "def reverse(li):\n",
    "    n=len(li)\n",
    "    mid = n//2\n",
    "    for i in range(mid):\n",
    "        temp = li[i]\n",
    "        li[i] = li[n-i-1]\n",
    "        li[n-i-1] = temp\n",
    "    return li\n",
    "        "
   ]
  },
  {
   "cell_type": "code",
   "execution_count": 13,
   "id": "29860f7f-90dc-47a0-a19d-19584e4750c4",
   "metadata": {},
   "outputs": [
    {
     "data": {
      "text/plain": [
       "[12, 9, 7, 5, 4, 2]"
      ]
     },
     "execution_count": 13,
     "metadata": {},
     "output_type": "execute_result"
    }
   ],
   "source": [
    "reverse([2, 4, 5, 7, 9, 12])"
   ]
  },
  {
   "cell_type": "code",
   "execution_count": null,
   "id": "071757fe-6ccb-4811-bd9f-40b9b4a75bf4",
   "metadata": {},
   "outputs": [],
   "source": []
  },
  {
   "cell_type": "code",
   "execution_count": 18,
   "id": "b2f79c00-4d6a-4341-a858-fc01110bc478",
   "metadata": {},
   "outputs": [],
   "source": [
    "# 4. Given an array of integers, find the maximum element in an array\n",
    "# arr = [10, 5, 20, 8, 15]\n",
    "# Output = 20\n",
    "\n",
    "def max_element(li):\n",
    "    maxi = li[0]\n",
    "    for i in range(len(li)):\n",
    "        if li[i]>maxi:\n",
    "            maxi = li[i]\n",
    "            \n",
    "    return maxi\n",
    "            "
   ]
  },
  {
   "cell_type": "code",
   "execution_count": 19,
   "id": "9654c1f1-f156-4ae5-ad97-67168a43813a",
   "metadata": {},
   "outputs": [
    {
     "data": {
      "text/plain": [
       "20"
      ]
     },
     "execution_count": 19,
     "metadata": {},
     "output_type": "execute_result"
    }
   ],
   "source": [
    "max_element([10, 5, 20, 8, 15])"
   ]
  },
  {
   "cell_type": "code",
   "execution_count": null,
   "id": "06ddee4f-c8bb-4756-a242-dae2b74d4b21",
   "metadata": {},
   "outputs": [],
   "source": []
  },
  {
   "cell_type": "code",
   "execution_count": 26,
   "id": "422bb574-b561-46f6-a330-89858c26ef8f",
   "metadata": {},
   "outputs": [],
   "source": [
    "# 5. Given a sorted array, remove the duplicate element without using any extra data structure.\n",
    "# arr = [1, 1, 2, 2, 2, 3, 3, 4, 4, 4, 5, 5]\n",
    "# Output = [1, 2, 3, 4, 5]\n",
    "\n",
    "def remove_duplicate(li):\n",
    "    index=0\n",
    "    for i in range(len(li)):\n",
    "        if li[index] != li[i]:\n",
    "            index+=1\n",
    "            li[index] = li[i]\n",
    "    return li[:index+1]\n",
    "            "
   ]
  },
  {
   "cell_type": "code",
   "execution_count": 27,
   "id": "4ee1da7a-0ce9-4a0e-bd14-aa97a449168b",
   "metadata": {},
   "outputs": [
    {
     "data": {
      "text/plain": [
       "[1, 2, 3, 4, 5]"
      ]
     },
     "execution_count": 27,
     "metadata": {},
     "output_type": "execute_result"
    }
   ],
   "source": [
    "remove_duplicate([1, 1, 2, 2, 2, 3, 3, 4, 4, 4, 5, 5])"
   ]
  },
  {
   "cell_type": "code",
   "execution_count": null,
   "id": "db03d8c7-0287-4097-8d86-742cba3875a0",
   "metadata": {},
   "outputs": [],
   "source": []
  }
 ],
 "metadata": {
  "kernelspec": {
   "display_name": "Python 3 (ipykernel)",
   "language": "python",
   "name": "python3"
  },
  "language_info": {
   "codemirror_mode": {
    "name": "ipython",
    "version": 3
   },
   "file_extension": ".py",
   "mimetype": "text/x-python",
   "name": "python",
   "nbconvert_exporter": "python",
   "pygments_lexer": "ipython3",
   "version": "3.10.8"
  }
 },
 "nbformat": 4,
 "nbformat_minor": 5
}
